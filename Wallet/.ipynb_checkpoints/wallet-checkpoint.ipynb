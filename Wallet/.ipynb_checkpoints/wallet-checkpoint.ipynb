{
 "cells": [
  {
   "cell_type": "code",
   "execution_count": 108,
   "metadata": {},
   "outputs": [],
   "source": [
    "#importing libraries\n",
    "import subprocess\n",
    "import json\n",
    "from web3 import Web3\n",
    "from web3.auto.gethdev import w3\n",
    "from web3.middleware import geth_poa_middleware\n",
    "from eth_account import Account\n",
    "from pathlib import Path\n",
    "from getpass import getpass\n",
    "from bit import wif_to_key\n",
    "from bit import PrivateKeyTestnet\n",
    "from bit.network import NetworkAPI\n",
    "from dotenv import load_dotenv\n",
    "import os\n",
    "load_dotenv()\n",
    "from constants import *\n",
    "import bit"
   ]
  },
  {
   "cell_type": "code",
   "execution_count": 109,
   "metadata": {},
   "outputs": [],
   "source": [
    "mnemonic = \"tag scout machine rival walk shiver liquid girl fun atom ostrich lawn\"\n",
    "#os.getenv('MNEMONIC')"
   ]
  },
  {
   "cell_type": "code",
   "execution_count": 110,
   "metadata": {},
   "outputs": [
    {
     "name": "stdout",
     "output_type": "stream",
     "text": [
      "tag scout machine rival walk shiver liquid girl fun atom ostrich lawn\n"
     ]
    }
   ],
   "source": [
    "print(mnemonic)"
   ]
  },
  {
   "cell_type": "code",
   "execution_count": 141,
   "metadata": {},
   "outputs": [
    {
     "data": {
      "text/plain": [
       "[{'path': \"m/44'/1'/0'/0/0\",\n",
       "  'address': 'mrXvE7scACaQYZTQuY4ZNTNJzNGKNT1m77',\n",
       "  'xprv': 'tprv8kP6wBVW9MPskVJYamE26fnBVmgsSHWXZt7FvaKLdTG1bAC2ogn8Qf3v32uec6FihEHoNYTFofxo6UknYMLn5NzTHH8fERd7GunkacJth7V',\n",
       "  'xpub': 'tpubDH595bXkHj5YdxLLUQtcW5SJ4oCobchS9Bi3D6Me3j4QReSoS5bib9fnDCSVjfHa3wTa4HoVBPCEyDjXUw6M5HS6CyKqs7UZAbDv3Voe16q',\n",
       "  'privkey': 'cN4bcY9UhWY41w87krYcfEHFxj4nYaTkfmzTz9omRkvxPa6ETg3C',\n",
       "  'pubkey': '0362d54fe9a8e6a834ea129cc54f4edf88b16a84354eeb79067971c50a0c2a6947',\n",
       "  'pubkeyhash': '78d812cccd8ea9a3bb8195da040d49812de1424a',\n",
       "  'index': 0},\n",
       " {'path': \"m/44'/1'/0'/0/1\",\n",
       "  'address': 'mkB9hcXggXsmRRjYL44YgSKjuvmQAcdNrC',\n",
       "  'xprv': 'tprv8kP6wBVW9MPsnMAwceoNWZv18FKLyqmzAxZMBnpcigQbp6Cvit1HZch4Lj86JQdnuQnNYD2qgyACCSdS7CwMtkUBTbfhuqpJyWeZDR73TLk',\n",
       "  'xpub': 'tpubDH595bXkHj5YfpCjWJTxuya7hGqH9AxtkGA8UJrv8xCzeaThMGpsk7JvWr5TTBjKRAaMWHZggBD6JeZroD7kkyB3VyEzXa1hc9oPuQtLNed',\n",
       "  'privkey': 'cRM5gQQETh2NLNY9cCgwb8gZS4bP9Uq7SDZNEePE1d1E1y2rD3qH',\n",
       "  'pubkey': '027168459ca68ede549af4595f120aa1b42c1792d344fe3f7c8b82963df5edbd99',\n",
       "  'pubkeyhash': '3319d4c2b4ebbf11174cdce6221743706386a565',\n",
       "  'index': 1},\n",
       " {'path': \"m/44'/1'/0'/0/2\",\n",
       "  'address': 'mvS3jes1pMT29PMk9tCNNbgrhBuCsez6NF',\n",
       "  'xprv': 'tprv8kP6wBVW9MPssD3VDbpp9x82Rc5GR2z7siFcHAvvp82RD8Mw8zirnS9qxBAgkTTfAs4R1oSosCcLE5LTpE7DihULcfghgUCTaXN11A2MMaf',\n",
       "  'xpub': 'tpubDH595bXkHj5Ykg5H7FVQZMn8zdbCaNB2T1rPZgyEEPpp3cchmPYSxvmi8LK1DFdVtEuWSwQqgzuJYvhk3cQUVSA9GrszEqgDbWrRK2qWSyA',\n",
       "  'privkey': 'cPuwzwSARdjmFpHM9X2d1SeyRfDKa6qBncFpMjSAfDBTjd4H8oJb',\n",
       "  'pubkey': '0366e793c7e486ee7a2afab117534ee4ae3082328e81dae0e59293b136d2343ff5',\n",
       "  'pubkeyhash': 'a39c5963a2e3e5a07c58c20d569ec177b4639108',\n",
       "  'index': 2},\n",
       " {'path': \"m/44'/1'/0'/0/3\",\n",
       "  'address': 'mvzySQacnQz9CVCh8tCbiSeoMQrLAzhZpu',\n",
       "  'xprv': 'tprv8kP6wBVW9MPsuQjYViZjELuuVD1yLXnYJXvUUNYzi7cAPhVePHLPzJxsCWTRCh45MPAWouCXX2aoYdt1dnykY1GkcY2Fn2VBavdSqzHCJnC',\n",
       "  'xpub': 'tpubDH595bXkHj5YnsmLPNEKdka24EXuVrySsqXFktbJ8PQZEBkR1g9zAoajNdBcvw2J1cVX7Xsepgtx97MpQ31JrwaZZqcZu7ePrGAMm7xvAgZ',\n",
       "  'privkey': 'cV9Pb1fsehsf3SwXPhNM8dQd5pUFPztwB5BQxuhjUwov3Jg561E7',\n",
       "  'pubkey': '02c4db00ea928ceaa52196b58cf201ecd345e544e9b2f6bcc2a298834d53603a12',\n",
       "  'pubkeyhash': 'a9d67d196c234bc7c5a8f9e88246468f28937aac',\n",
       "  'index': 3},\n",
       " {'path': \"m/44'/1'/0'/0/4\",\n",
       "  'address': 'mhZDJNvZBWKeM9g85PxX2Yjt6xEAVkGSnL',\n",
       "  'xprv': 'tprv8kP6wBVW9MPsveCz59gRP9ptnqid5Tbee3wR5xUmTKbvP6ztrLAvcLq1C6AY5U5R6iJXYybNMZDbgknayaKMCFoC9XDP1danU3fn5hCUiDc',\n",
       "  'xpub': 'tpubDH595bXkHj5Yp7EmxoM1nZV1MsEZEnnZDMYCNUX4sbQKDbFfUizWnqSsNE2UCAwR6au2bUfPcUEdJLoWqix2yu6ZH85hR9BGfMmT61DuTsE',\n",
       "  'privkey': 'cNnWMganJd7NgBpUWrnYAQ6GNYNd2PqN77jwEs1gLkGLAVpZuqfk',\n",
       "  'pubkey': '029c567b060552b2d3b454d2912cd152dfc7d79f5c9988dbb42f7895fe34d1a942',\n",
       "  'pubkeyhash': '165d9c0a7c19754f5210379de5a0b80c0ebe71be',\n",
       "  'index': 4},\n",
       " {'path': \"m/44'/1'/0'/0/5\",\n",
       "  'address': 'mrWY7VsQCXcc2XVwD7kRcVMwN7c86cpXcR',\n",
       "  'xprv': 'tprv8kP6wBVW9MPsy1dBBMqvK5xwm2ZiUynWEzPtQEkXXHCweGwdnRbyNG1HjmUXbqD5E5ZJHJa9jJUTTnX4TAdjdm7N6cfKGrUB4iZaxDtV4tj',\n",
       "  'xpub': 'tpubDH595bXkHj5YrUey51WWiVd4L45eeJyQpHzfgknpwZ1LUmCQQpRZYkd9uvVTUSHRQTnHhSnnw6zsMVWCMSUae74BTg4AtPE9QGVUGNWCfFG',\n",
       "  'privkey': 'cSPhDZDdpngEKQtZi72fmvSPJC7V47j5TYi1HMaU7EKtXGA2ENnY',\n",
       "  'pubkey': '03a012e6ac35bcfca57b87baa98dbd96ce206d966b80752e0aac5fe0c83e9f0d60',\n",
       "  'pubkeyhash': '78953290298241af8d80bdd2e741f9b01702c0d4',\n",
       "  'index': 5},\n",
       " {'path': \"m/44'/1'/0'/0/6\",\n",
       "  'address': 'mgGhJPpoA3VXt9ap7MfZBAchbmigGZjWkN',\n",
       "  'xprv': 'tprv8kP6wBVW9MPt1Dbo885g3HVWU4o2ngyMWpbUGZhp5iQS1dRiddvJQPic26q1pkM4rYUkkD9qg48sNuQPZ4wrVCKkk2pyNogN5U34zrsDaf2',\n",
       "  'xpub': 'tpubDH595bXkHj5Ytgdb1mkGSh9d36Jxx2AG68CFZ5k7VzCpr7gVG2jtatLUCGENQqyY2KzZAibVjkYMEd5qUYDbCebub1CsX5EC5MT9AcJKUrb',\n",
       "  'privkey': 'cN9G5AehrRwMDPuruuCy9hTRB2bGSnyJNU6NgejzYG2BzZwkiHj9',\n",
       "  'pubkey': '035438695f969472df726266997837463732d7c92c33d96fc9e2784a8642385fde',\n",
       "  'pubkeyhash': '0845c92d48adec00ef5d7d9e56e86c9e0ac01033',\n",
       "  'index': 6},\n",
       " {'path': \"m/44'/1'/0'/0/7\",\n",
       "  'address': 'n3dkF23mksciRjtk7hSCfEBQiX5y9YCPhG',\n",
       "  'xprv': 'tprv8kP6wBVW9MPt5eZMWnn9MUCjyE3915aZrCCsSjTeGirX5389QUoD8krWuv2U7q5eU4o2Exih3aKUVngmCuEBhn1JP8ANdMGrwyBBDiyYPtv',\n",
       "  'xpub': 'tpubDH595bXkHj5Yy7b9QSSjksrrYFZ5AQmURVoejFVwgzeuuXNv2scoKFUP61s7ERQ1CbXuGfzaMEG8K9onXrJqzmHY94NgTnCRgkXxUKwbgRn',\n",
       "  'privkey': 'cVbZJfRQbMGUpoS9eoLvNjnnk4hq1dx4MBpfLRWSPp6soRGqravi',\n",
       "  'pubkey': '025d3d0ea84a7756e2f5f859fe756a7059092de0dd07bfaf27dc9b6ac73dd644ad',\n",
       "  'pubkeyhash': 'f29b9e422c469ea0ec01a5733e0fe3e45432ea11',\n",
       "  'index': 7},\n",
       " {'path': \"m/44'/1'/0'/0/8\",\n",
       "  'address': 'n4L3nhVn3GiiAnjgxCkfutKVYgpoJLRfj3',\n",
       "  'xprv': 'tprv8kP6wBVW9MPt8BoVYME4nnYkKTvAV3wkPeTgNGWugxZW5iwJYur9gn5pzwtGmgnwGbiARhsC6qFBQAJJz2Yd7dJK4Mf8dGxKiqznuWGuKSW',\n",
       "  'xpub': 'tpubDH595bXkHj5Z1eqHRztfCCCrtVS6eP8exx4TenZD7EMtvDC5BJfjsGhhB5rtj1R4Xkqr1m4HsYMRUzRPuAsfnJp1VtmtWeEiHZDYNFMneQd',\n",
       "  'privkey': 'cQQLxdermjrADDJD3tzrD67CWhV4ZLHBwQPK6dPpkNTd951tSPhf',\n",
       "  'pubkey': '02dbcb8326df6e103cd8e8e0b0c07f27db7fed916ab1916257bc5083ecb44d30af',\n",
       "  'pubkeyhash': 'fa3ae74c3845f97df09d8e26b552e85906dc9c5d',\n",
       "  'index': 8},\n",
       " {'path': \"m/44'/1'/0'/0/9\",\n",
       "  'address': 'n3kokaUFmqWLyeFJpA6n4YJARkb9k5obpD',\n",
       "  'xprv': 'tprv8kP6wBVW9MPtAZQ1EVMHjQniV3ybeivRE8ewSk37ufjXdFuh6jNGrL1XWW3q4SU6DSKGKLMwjwpfYePXiCthCJCdueFXFLrEgcyhGiejzdV',\n",
       "  'xpub': 'tpubDH595bXkHj5Z42Ro891t8pSq45VXp47KoSFijG5RKwXvTkATj8Bs2pdPgen8oq9YcYdsfHHR9bjLucMWfBXVx1fnd6mS5VkEXywWsUSNEqh',\n",
       "  'privkey': 'cUL6bUGa6uESuLY5JCh7kHzAGZtRLiagxGQyiswtwyMp7g8fh7Et',\n",
       "  'pubkey': '03b4276fb58c9cc3f52763e271bb491f07820fc88b9cdbe2fedd29bca7ea981336',\n",
       "  'pubkeyhash': 'f3f175aa2de8326fbbb657c83c7e0df8ff818226',\n",
       "  'index': 9}]"
      ]
     },
     "execution_count": 141,
     "metadata": {},
     "output_type": "execute_result"
    }
   ],
   "source": [
    "#Function to derive wallets\n",
    "def derive_wallets(coin, m):\n",
    "    command = f'./derive -g --mnemonic=\"tag scout machine rival walk shiver liquid girl fun atom ostrich lawn\"--cols=path,address,privkey,pubkey --format=json --coin=\"{coin}\" -numderive=9'\n",
    "    p = subprocess.Popen(command, stdout=subprocess.PIPE, shell=True)\n",
    "    output, err = p.communicate()\n",
    "    p_status = p.wait()\n",
    "    keys = json.loads(output)\n",
    "    return keys\n",
    "\n",
    "#coins = {\n",
    "#    ETH: derive_wallets(ETH),\n",
    "#    BTCTEST: derive_wallets(BTCTEST)\n",
    "#}    \n",
    "#print(coins)\n",
    "derive_wallets (BTCTEST, \"tag scout machine rival walk shiver liquid girl fun atom ostrich lawn\")"
   ]
  },
  {
   "cell_type": "code",
   "execution_count": 112,
   "metadata": {},
   "outputs": [],
   "source": [
    "w3 = Web3(Web3.HTTPProvider('http://127.0.0.1:8545'))\n",
    "w3.middleware_onion.inject(geth_poa_middleware, layer=0)\n",
    "\n",
    "#Function to convert key to account\n",
    "\n",
    "def priv_key_to_account(coin, priv_key):\n",
    "    if coin == BTCTEST:\n",
    "        return bit.PrivateKeyTestnet(priv_key) \n",
    "    elif coin == ETH:\n",
    "        return Account.privateKeyToAccount(priv_key)\n",
    "    else:\n",
    "        print('Must use either BTCTEST or ETH')"
   ]
  },
  {
   "cell_type": "code",
   "execution_count": 127,
   "metadata": {},
   "outputs": [],
   "source": [
    "#Function to create a transaction\n",
    "def create_tx(coin,account,to,amount):\n",
    "    if coin == BTCTEST:\n",
    "        return bit.PrivateKeyTestnet.prepare_transaction(account.address, [(to,amount,BTC)])\n",
    "    elif coin == ETH:\n",
    "        \n",
    "        \n",
    "        gas_estimate = w3.eth.estimateGas(\n",
    "            {'from': account.address,'to': to, 'value': amount}\n",
    "            )\n",
    "        \n",
    "        return {\n",
    "            'from': account.address,\n",
    "            'to': to,\n",
    "            'value': amount,\n",
    "            'gasPrice': w3.eth.gasPrice,\n",
    "            'gas': gas_estimate,\n",
    "            'nonce':w3.eth.getTransactionCount(account.address)\n",
    "        }\n",
    "    \n",
    "    else:\n",
    "        print('Must use either BTCTEST or ETH')"
   ]
  },
  {
   "cell_type": "code",
   "execution_count": 128,
   "metadata": {},
   "outputs": [],
   "source": [
    "#Fuction to send a transaction\n",
    "def send_tx(coin, account,to,amount):\n",
    "    if coin == BTCTEST:\n",
    "        raw_tx = create_tx(coin,account,to,amount)\n",
    "        signed = account.sign_transaction(raw_tx)\n",
    "        return NetworkAPI.broadcast_tx_testnet(signed)\n",
    "    elif coin == ETH:\n",
    "        raw_tx = create_tx(coin,account,to,amount)\n",
    "        signed = account.signTransaction(raw_tx)\n",
    "        return w3.eth.sendRawTransaction(signed.rawTransaction)\n",
    "    else:\n",
    "        print('Must use either BTCTEST or ETH')"
   ]
  },
  {
   "cell_type": "code",
   "execution_count": 129,
   "metadata": {},
   "outputs": [
    {
     "data": {
      "text/plain": [
       "'cN4bcY9UhWY41w87krYcfEHFxj4nYaTkfmzTz9omRkvxPa6ETg3C'"
      ]
     },
     "execution_count": 129,
     "metadata": {},
     "output_type": "execute_result"
    }
   ],
   "source": [
    "coins[BTCTEST][0][\"privkey\"]"
   ]
  },
  {
   "cell_type": "code",
   "execution_count": 130,
   "metadata": {},
   "outputs": [],
   "source": [
    "recipient = coins[ETH][1]['address']"
   ]
  },
  {
   "cell_type": "code",
   "execution_count": 131,
   "metadata": {},
   "outputs": [
    {
     "data": {
      "text/plain": [
       "'cRM5gQQETh2NLNY9cCgwb8gZS4bP9Uq7SDZNEePE1d1E1y2rD3qH'"
      ]
     },
     "execution_count": 131,
     "metadata": {},
     "output_type": "execute_result"
    }
   ],
   "source": [
    "coins[BTCTEST][1]['privkey']"
   ]
  },
  {
   "cell_type": "code",
   "execution_count": 132,
   "metadata": {},
   "outputs": [
    {
     "data": {
      "text/plain": [
       "'0x628a40ae6adc640073fdbba2664ec3645871bf3c557d2c48babb354084fdc2f5'"
      ]
     },
     "execution_count": 132,
     "metadata": {},
     "output_type": "execute_result"
    }
   ],
   "source": [
    "coins[ETH][0]['privkey']"
   ]
  },
  {
   "cell_type": "code",
   "execution_count": 133,
   "metadata": {},
   "outputs": [
    {
     "data": {
      "text/plain": [
       "'0xA3785d245cdF0F113f111f9877bc5627262A9FC8'"
      ]
     },
     "execution_count": 133,
     "metadata": {},
     "output_type": "execute_result"
    }
   ],
   "source": [
    "coins[ETH][0]['address']"
   ]
  },
  {
   "cell_type": "code",
   "execution_count": 139,
   "metadata": {},
   "outputs": [],
   "source": [
    "#setting variables to pass functions\n",
    "#ETH and BTCTEST are the only supported currencies and do not need strings as they are global variables\n",
    "currency_to_transact = ETH\n",
    "owner_account_priv_key = coins[currency_to_transact][0]['privkey']\n",
    "receiver_account = coins[currency_to_transact][1]['address']\n",
    "ETH_to_send = 10000000000000000000\n",
    "BTCTEST_to_send = 0.00001\n",
    "\n",
    "account = priv_key_to_account(currency_to_transact, 'f65687b08240db0a235bc9508481682bc7737e5ad487f6f341a37ecc0e0b9d2d')"
   ]
  },
  {
   "cell_type": "code",
   "execution_count": 140,
   "metadata": {},
   "outputs": [
    {
     "data": {
      "text/plain": [
       "HexBytes('0x90a658617e53f663c584f3d1b721b6291f3ec4d3e6741656ba91f44a0dc40b0e')"
      ]
     },
     "execution_count": 140,
     "metadata": {},
     "output_type": "execute_result"
    }
   ],
   "source": [
    "send_tx(ETH,account,receiver_account,ETH_to_send)\n"
   ]
  },
  {
   "cell_type": "code",
   "execution_count": 70,
   "metadata": {},
   "outputs": [
    {
     "ename": "NameError",
     "evalue": "name 'currrency_to_transact' is not defined",
     "output_type": "error",
     "traceback": [
      "\u001b[0;31m---------------------------------------------------------------------------\u001b[0m",
      "\u001b[0;31mNameError\u001b[0m                                 Traceback (most recent call last)",
      "\u001b[0;32m<ipython-input-70-a5cdd310e6ff>\u001b[0m in \u001b[0;36m<module>\u001b[0;34m\u001b[0m\n\u001b[1;32m      2\u001b[0m     \u001b[0msend_tx\u001b[0m\u001b[0;34m(\u001b[0m\u001b[0mcurrency_to_transact\u001b[0m\u001b[0;34m,\u001b[0m\u001b[0maccount\u001b[0m\u001b[0;34m,\u001b[0m\u001b[0mreceiver_account\u001b[0m\u001b[0;34m,\u001b[0m\u001b[0mETH_to_send\u001b[0m\u001b[0;34m)\u001b[0m\u001b[0;34m\u001b[0m\u001b[0;34m\u001b[0m\u001b[0m\n\u001b[1;32m      3\u001b[0m \u001b[0;32melif\u001b[0m \u001b[0mcurrency_to_transact\u001b[0m \u001b[0;34m==\u001b[0m \u001b[0mBTCTEST\u001b[0m\u001b[0;34m:\u001b[0m\u001b[0;34m\u001b[0m\u001b[0;34m\u001b[0m\u001b[0m\n\u001b[0;32m----> 4\u001b[0;31m     \u001b[0msend_tx\u001b[0m\u001b[0;34m(\u001b[0m\u001b[0mcurrrency_to_transact\u001b[0m\u001b[0;34m,\u001b[0m\u001b[0maccount\u001b[0m\u001b[0;34m,\u001b[0m\u001b[0mreceiver_account\u001b[0m\u001b[0;34m,\u001b[0m\u001b[0mBTCTEST_to_send\u001b[0m\u001b[0;34m)\u001b[0m\u001b[0;34m\u001b[0m\u001b[0;34m\u001b[0m\u001b[0m\n\u001b[0m\u001b[1;32m      5\u001b[0m \u001b[0;32melse\u001b[0m\u001b[0;34m:\u001b[0m\u001b[0;34m\u001b[0m\u001b[0;34m\u001b[0m\u001b[0m\n\u001b[1;32m      6\u001b[0m     \u001b[0mprint\u001b[0m\u001b[0;34m(\u001b[0m\u001b[0;34m'You can only use ETH or BTCTEST to transact'\u001b[0m\u001b[0;34m)\u001b[0m\u001b[0;34m\u001b[0m\u001b[0;34m\u001b[0m\u001b[0m\n",
      "\u001b[0;31mNameError\u001b[0m: name 'currrency_to_transact' is not defined"
     ]
    }
   ],
   "source": [
    "if currency_to_transact == ETH:\n",
    "    send_tx(currency_to_transact,account,receiver_account,ETH_to_send)\n",
    "elif currency_to_transact == BTCTEST:\n",
    "    send_tx(currrency_to_transact,account,receiver_account,BTCTEST_to_send)\n",
    "else:\n",
    "    print('You can only use ETH or BTCTEST to transact')\n",
    "    "
   ]
  },
  {
   "cell_type": "code",
   "execution_count": 17,
   "metadata": {},
   "outputs": [
    {
     "ename": "NameError",
     "evalue": "name 'send_tx' is not defined",
     "output_type": "error",
     "traceback": [
      "\u001b[0;31m---------------------------------------------------------------------------\u001b[0m",
      "\u001b[0;31mNameError\u001b[0m                                 Traceback (most recent call last)",
      "\u001b[0;32m<ipython-input-17-91c5612bd37c>\u001b[0m in \u001b[0;36m<module>\u001b[0;34m\u001b[0m\n\u001b[0;32m----> 1\u001b[0;31m \u001b[0msend_tx\u001b[0m\u001b[0;34m(\u001b[0m\u001b[0mcurrrency_to_transact\u001b[0m\u001b[0;34m,\u001b[0m\u001b[0maccount\u001b[0m\u001b[0;34m,\u001b[0m\u001b[0mreceiver_account\u001b[0m\u001b[0;34m,\u001b[0m\u001b[0mBTCTEST_to_send\u001b[0m\u001b[0;34m)\u001b[0m\u001b[0;34m\u001b[0m\u001b[0;34m\u001b[0m\u001b[0m\n\u001b[0m",
      "\u001b[0;31mNameError\u001b[0m: name 'send_tx' is not defined"
     ]
    }
   ],
   "source": [
    "send_tx(currrency_to_transact,account,receiver_account,BTCTEST_to_send)"
   ]
  },
  {
   "cell_type": "code",
   "execution_count": null,
   "metadata": {},
   "outputs": [],
   "source": [
    "Account_one = priv_key_to_account(BTCTEST, coins[BTCTEST][0]['privkey'])\n",
    "\n",
    "#print(Account_one)\n",
    "#print(coins[BTCTEST][0]['address'])\n",
    "print(coins[BTCTEST][1]['privkey'])\n",
    "\n",
    "# insert private key here\n",
    "key = wif_to_key(os.getenv('keys'))\n",
    "key2 = wif_to_key(os.getenv('keys2'))\n",
    "\n",
    "address_two= coins[BTCTEST][1]['address']\n",
    "\n",
    "#send_tx(BTCTEST, Account_one, address_two, 0.002)\n",
    "\n",
    "print(key.get_balance(\"btc\"))\n",
    "print(key.balance_as(\"usd\"))\n",
    "#print(key.get_transactions())\n",
    "#print(key.get_unspents())\n",
    "print(key2.get_balance(\"btc\"))\n",
    "print(key2.balance_as(\"usd\"))\n",
    "#print(key2.get_transactions())\n",
    "#print(key2.get_unspents())"
   ]
  },
  {
   "cell_type": "code",
   "execution_count": null,
   "metadata": {},
   "outputs": [],
   "source": [
    "w3 = Web3(Web3.HTTPProvider('http://127.0.0.1:8545'))\n",
    "latest_block = w3.eth.blockNumber\n",
    "print(latest_block)\n",
    "balance_node1 = w3.eth.getBalance(\"0xb7ac4Cfc8530b14fCd84833eEecDb1e20BAe0738\")\n",
    "print(balance_node1)"
   ]
  },
  {
   "cell_type": "code",
   "execution_count": 60,
   "metadata": {},
   "outputs": [
    {
     "name": "stdin",
     "output_type": "stream",
     "text": [
      "What is the keystore password?:  ······\n"
     ]
    },
    {
     "ename": "AttributeError",
     "evalue": "function/symbol 'SHA256_init' not found in library '/Users/victormieres/opt/anaconda3/envs/ethereum/lib/python3.7/site-packages/Crypto/Util/../Hash/_SHA256.cpython-37m-darwin.so': dlsym(0x7fab32ebb5e0, SHA256_init): symbol not found",
     "output_type": "error",
     "traceback": [
      "\u001b[0;31m---------------------------------------------------------------------------\u001b[0m",
      "\u001b[0;31mAttributeError\u001b[0m                            Traceback (most recent call last)",
      "\u001b[0;32m<ipython-input-60-bb61ec0b60e9>\u001b[0m in \u001b[0;36m<module>\u001b[0;34m\u001b[0m\n\u001b[1;32m      6\u001b[0m     \u001b[0mencrypted_key\u001b[0m \u001b[0;34m=\u001b[0m \u001b[0mkeyfile\u001b[0m\u001b[0;34m.\u001b[0m\u001b[0mread\u001b[0m\u001b[0;34m(\u001b[0m\u001b[0;34m)\u001b[0m\u001b[0;34m\u001b[0m\u001b[0;34m\u001b[0m\u001b[0m\n\u001b[1;32m      7\u001b[0m     private_key = w3.eth.account.decrypt(\n\u001b[0;32m----> 8\u001b[0;31m         \u001b[0mencrypted_key\u001b[0m\u001b[0;34m,\u001b[0m \u001b[0mgetpass\u001b[0m\u001b[0;34m(\u001b[0m\u001b[0;34m\"What is the keystore password?: \"\u001b[0m\u001b[0;34m)\u001b[0m\u001b[0;34m\u001b[0m\u001b[0;34m\u001b[0m\u001b[0m\n\u001b[0m\u001b[1;32m      9\u001b[0m     )\n\u001b[1;32m     10\u001b[0m     \u001b[0maccount_two\u001b[0m \u001b[0;34m=\u001b[0m \u001b[0mAccount\u001b[0m\u001b[0;34m.\u001b[0m\u001b[0mfrom_key\u001b[0m\u001b[0;34m(\u001b[0m\u001b[0mprivate_key\u001b[0m\u001b[0;34m)\u001b[0m\u001b[0;34m\u001b[0m\u001b[0;34m\u001b[0m\u001b[0m\n",
      "\u001b[0;32m~/opt/anaconda3/envs/ethereum/lib/python3.7/site-packages/eth_account/account.py\u001b[0m in \u001b[0;36mdecrypt\u001b[0;34m(keyfile_json, password)\u001b[0m\n\u001b[1;32m    149\u001b[0m             \u001b[0;32mraise\u001b[0m \u001b[0mTypeError\u001b[0m\u001b[0;34m(\u001b[0m\u001b[0;34m\"The keyfile should be supplied as a JSON string, or a dictionary.\"\u001b[0m\u001b[0;34m)\u001b[0m\u001b[0;34m\u001b[0m\u001b[0;34m\u001b[0m\u001b[0m\n\u001b[1;32m    150\u001b[0m         \u001b[0mpassword_bytes\u001b[0m \u001b[0;34m=\u001b[0m \u001b[0mtext_if_str\u001b[0m\u001b[0;34m(\u001b[0m\u001b[0mto_bytes\u001b[0m\u001b[0;34m,\u001b[0m \u001b[0mpassword\u001b[0m\u001b[0;34m)\u001b[0m\u001b[0;34m\u001b[0m\u001b[0;34m\u001b[0m\u001b[0m\n\u001b[0;32m--> 151\u001b[0;31m         \u001b[0;32mreturn\u001b[0m \u001b[0mHexBytes\u001b[0m\u001b[0;34m(\u001b[0m\u001b[0mdecode_keyfile_json\u001b[0m\u001b[0;34m(\u001b[0m\u001b[0mkeyfile\u001b[0m\u001b[0;34m,\u001b[0m \u001b[0mpassword_bytes\u001b[0m\u001b[0;34m)\u001b[0m\u001b[0;34m)\u001b[0m\u001b[0;34m\u001b[0m\u001b[0;34m\u001b[0m\u001b[0m\n\u001b[0m\u001b[1;32m    152\u001b[0m \u001b[0;34m\u001b[0m\u001b[0m\n\u001b[1;32m    153\u001b[0m     \u001b[0;34m@\u001b[0m\u001b[0mclassmethod\u001b[0m\u001b[0;34m\u001b[0m\u001b[0;34m\u001b[0m\u001b[0m\n",
      "\u001b[0;32m~/opt/anaconda3/envs/ethereum/lib/python3.7/site-packages/eth_keyfile/keyfile.py\u001b[0m in \u001b[0;36mdecode_keyfile_json\u001b[0;34m(raw_keyfile_json, password)\u001b[0m\n\u001b[1;32m     47\u001b[0m \u001b[0;34m\u001b[0m\u001b[0m\n\u001b[1;32m     48\u001b[0m     \u001b[0;32mif\u001b[0m \u001b[0mversion\u001b[0m \u001b[0;34m==\u001b[0m \u001b[0;36m3\u001b[0m\u001b[0;34m:\u001b[0m\u001b[0;34m\u001b[0m\u001b[0;34m\u001b[0m\u001b[0m\n\u001b[0;32m---> 49\u001b[0;31m         \u001b[0;32mreturn\u001b[0m \u001b[0m_decode_keyfile_json_v3\u001b[0m\u001b[0;34m(\u001b[0m\u001b[0mkeyfile_json\u001b[0m\u001b[0;34m,\u001b[0m \u001b[0mpassword\u001b[0m\u001b[0;34m)\u001b[0m\u001b[0;34m\u001b[0m\u001b[0;34m\u001b[0m\u001b[0m\n\u001b[0m\u001b[1;32m     50\u001b[0m     \u001b[0;32melse\u001b[0m\u001b[0;34m:\u001b[0m\u001b[0;34m\u001b[0m\u001b[0;34m\u001b[0m\u001b[0m\n\u001b[1;32m     51\u001b[0m         \u001b[0;32mraise\u001b[0m \u001b[0mNotImplementedError\u001b[0m\u001b[0;34m(\u001b[0m\u001b[0;34m\"Not yet implemented\"\u001b[0m\u001b[0;34m)\u001b[0m\u001b[0;34m\u001b[0m\u001b[0;34m\u001b[0m\u001b[0m\n",
      "\u001b[0;32m~/opt/anaconda3/envs/ethereum/lib/python3.7/site-packages/eth_keyfile/keyfile.py\u001b[0m in \u001b[0;36m_decode_keyfile_json_v3\u001b[0;34m(keyfile_json, password)\u001b[0m\n\u001b[1;32m    157\u001b[0m         \u001b[0mderived_key\u001b[0m \u001b[0;34m=\u001b[0m \u001b[0m_derive_pbkdf_key\u001b[0m\u001b[0;34m(\u001b[0m\u001b[0mcrypto\u001b[0m\u001b[0;34m,\u001b[0m \u001b[0mpassword\u001b[0m\u001b[0;34m)\u001b[0m\u001b[0;34m\u001b[0m\u001b[0;34m\u001b[0m\u001b[0m\n\u001b[1;32m    158\u001b[0m     \u001b[0;32melif\u001b[0m \u001b[0mkdf\u001b[0m \u001b[0;34m==\u001b[0m \u001b[0;34m'scrypt'\u001b[0m\u001b[0;34m:\u001b[0m\u001b[0;34m\u001b[0m\u001b[0;34m\u001b[0m\u001b[0m\n\u001b[0;32m--> 159\u001b[0;31m         \u001b[0mderived_key\u001b[0m \u001b[0;34m=\u001b[0m \u001b[0m_derive_scrypt_key\u001b[0m\u001b[0;34m(\u001b[0m\u001b[0mcrypto\u001b[0m\u001b[0;34m,\u001b[0m \u001b[0mpassword\u001b[0m\u001b[0;34m)\u001b[0m\u001b[0;34m\u001b[0m\u001b[0;34m\u001b[0m\u001b[0m\n\u001b[0m\u001b[1;32m    160\u001b[0m     \u001b[0;32melse\u001b[0m\u001b[0;34m:\u001b[0m\u001b[0;34m\u001b[0m\u001b[0;34m\u001b[0m\u001b[0m\n\u001b[1;32m    161\u001b[0m         \u001b[0;32mraise\u001b[0m \u001b[0mTypeError\u001b[0m\u001b[0;34m(\u001b[0m\u001b[0;34m\"Unsupported key derivation function: {0}\"\u001b[0m\u001b[0;34m.\u001b[0m\u001b[0mformat\u001b[0m\u001b[0;34m(\u001b[0m\u001b[0mkdf\u001b[0m\u001b[0;34m)\u001b[0m\u001b[0;34m)\u001b[0m\u001b[0;34m\u001b[0m\u001b[0;34m\u001b[0m\u001b[0m\n",
      "\u001b[0;32m~/opt/anaconda3/envs/ethereum/lib/python3.7/site-packages/eth_keyfile/keyfile.py\u001b[0m in \u001b[0;36m_derive_scrypt_key\u001b[0;34m(crypto, password)\u001b[0m\n\u001b[1;32m    211\u001b[0m         \u001b[0mr\u001b[0m\u001b[0;34m=\u001b[0m\u001b[0mr\u001b[0m\u001b[0;34m,\u001b[0m\u001b[0;34m\u001b[0m\u001b[0;34m\u001b[0m\u001b[0m\n\u001b[1;32m    212\u001b[0m         \u001b[0mp\u001b[0m\u001b[0;34m=\u001b[0m\u001b[0mp\u001b[0m\u001b[0;34m,\u001b[0m\u001b[0;34m\u001b[0m\u001b[0;34m\u001b[0m\u001b[0m\n\u001b[0;32m--> 213\u001b[0;31m         \u001b[0mbuflen\u001b[0m\u001b[0;34m=\u001b[0m\u001b[0mbuflen\u001b[0m\u001b[0;34m,\u001b[0m\u001b[0;34m\u001b[0m\u001b[0;34m\u001b[0m\u001b[0m\n\u001b[0m\u001b[1;32m    214\u001b[0m     )\n\u001b[1;32m    215\u001b[0m     \u001b[0;32mreturn\u001b[0m \u001b[0mderived_scrypt_key\u001b[0m\u001b[0;34m\u001b[0m\u001b[0;34m\u001b[0m\u001b[0m\n",
      "\u001b[0;32m~/opt/anaconda3/envs/ethereum/lib/python3.7/site-packages/eth_keyfile/keyfile.py\u001b[0m in \u001b[0;36m_scrypt_hash\u001b[0;34m(password, salt, n, r, p, buflen)\u001b[0m\n\u001b[1;32m    224\u001b[0m         \u001b[0mr\u001b[0m\u001b[0;34m=\u001b[0m\u001b[0mr\u001b[0m\u001b[0;34m,\u001b[0m\u001b[0;34m\u001b[0m\u001b[0;34m\u001b[0m\u001b[0m\n\u001b[1;32m    225\u001b[0m         \u001b[0mp\u001b[0m\u001b[0;34m=\u001b[0m\u001b[0mp\u001b[0m\u001b[0;34m,\u001b[0m\u001b[0;34m\u001b[0m\u001b[0;34m\u001b[0m\u001b[0m\n\u001b[0;32m--> 226\u001b[0;31m         \u001b[0mnum_keys\u001b[0m\u001b[0;34m=\u001b[0m\u001b[0;36m1\u001b[0m\u001b[0;34m,\u001b[0m\u001b[0;34m\u001b[0m\u001b[0;34m\u001b[0m\u001b[0m\n\u001b[0m\u001b[1;32m    227\u001b[0m     )\n\u001b[1;32m    228\u001b[0m     \u001b[0;32mreturn\u001b[0m \u001b[0mderived_key\u001b[0m\u001b[0;34m\u001b[0m\u001b[0;34m\u001b[0m\u001b[0m\n",
      "\u001b[0;32m~/opt/anaconda3/envs/ethereum/lib/python3.7/site-packages/Crypto/Protocol/KDF.py\u001b[0m in \u001b[0;36mscrypt\u001b[0;34m(password, salt, key_len, N, r, p, num_keys)\u001b[0m\n\u001b[1;32m    383\u001b[0m     \u001b[0mprf_hmac_sha256\u001b[0m \u001b[0;34m=\u001b[0m \u001b[0;32mlambda\u001b[0m \u001b[0mp\u001b[0m\u001b[0;34m,\u001b[0m \u001b[0ms\u001b[0m\u001b[0;34m:\u001b[0m \u001b[0mHMAC\u001b[0m\u001b[0;34m.\u001b[0m\u001b[0mnew\u001b[0m\u001b[0;34m(\u001b[0m\u001b[0mp\u001b[0m\u001b[0;34m,\u001b[0m \u001b[0ms\u001b[0m\u001b[0;34m,\u001b[0m \u001b[0mSHA256\u001b[0m\u001b[0;34m)\u001b[0m\u001b[0;34m.\u001b[0m\u001b[0mdigest\u001b[0m\u001b[0;34m(\u001b[0m\u001b[0;34m)\u001b[0m\u001b[0;34m\u001b[0m\u001b[0;34m\u001b[0m\u001b[0m\n\u001b[1;32m    384\u001b[0m \u001b[0;34m\u001b[0m\u001b[0m\n\u001b[0;32m--> 385\u001b[0;31m     \u001b[0mstage_1\u001b[0m \u001b[0;34m=\u001b[0m \u001b[0mPBKDF2\u001b[0m\u001b[0;34m(\u001b[0m\u001b[0mpassword\u001b[0m\u001b[0;34m,\u001b[0m \u001b[0msalt\u001b[0m\u001b[0;34m,\u001b[0m \u001b[0mp\u001b[0m \u001b[0;34m*\u001b[0m \u001b[0;36m128\u001b[0m \u001b[0;34m*\u001b[0m \u001b[0mr\u001b[0m\u001b[0;34m,\u001b[0m \u001b[0;36m1\u001b[0m\u001b[0;34m,\u001b[0m \u001b[0mprf\u001b[0m\u001b[0;34m=\u001b[0m\u001b[0mprf_hmac_sha256\u001b[0m\u001b[0;34m)\u001b[0m\u001b[0;34m\u001b[0m\u001b[0;34m\u001b[0m\u001b[0m\n\u001b[0m\u001b[1;32m    386\u001b[0m \u001b[0;34m\u001b[0m\u001b[0m\n\u001b[1;32m    387\u001b[0m     \u001b[0mscryptROMix\u001b[0m \u001b[0;34m=\u001b[0m \u001b[0m_raw_scrypt_lib\u001b[0m\u001b[0;34m.\u001b[0m\u001b[0mscryptROMix\u001b[0m\u001b[0;34m\u001b[0m\u001b[0;34m\u001b[0m\u001b[0m\n",
      "\u001b[0;32m~/opt/anaconda3/envs/ethereum/lib/python3.7/site-packages/Crypto/Protocol/KDF.py\u001b[0m in \u001b[0;36mPBKDF2\u001b[0;34m(password, salt, dkLen, count, prf, hmac_hash_module)\u001b[0m\n\u001b[1;32m    160\u001b[0m         \u001b[0mi\u001b[0m \u001b[0;34m=\u001b[0m \u001b[0;36m1\u001b[0m\u001b[0;34m\u001b[0m\u001b[0;34m\u001b[0m\u001b[0m\n\u001b[1;32m    161\u001b[0m         \u001b[0;32mwhile\u001b[0m \u001b[0mlen\u001b[0m\u001b[0;34m(\u001b[0m\u001b[0mkey\u001b[0m\u001b[0;34m)\u001b[0m \u001b[0;34m<\u001b[0m \u001b[0mdkLen\u001b[0m\u001b[0;34m:\u001b[0m\u001b[0;34m\u001b[0m\u001b[0;34m\u001b[0m\u001b[0m\n\u001b[0;32m--> 162\u001b[0;31m             \u001b[0ms\u001b[0m \u001b[0;34m=\u001b[0m \u001b[0;34m[\u001b[0m \u001b[0mprf\u001b[0m\u001b[0;34m(\u001b[0m\u001b[0mpassword\u001b[0m\u001b[0;34m,\u001b[0m \u001b[0msalt\u001b[0m \u001b[0;34m+\u001b[0m \u001b[0mstruct\u001b[0m\u001b[0;34m.\u001b[0m\u001b[0mpack\u001b[0m\u001b[0;34m(\u001b[0m\u001b[0;34m\">I\"\u001b[0m\u001b[0;34m,\u001b[0m \u001b[0mi\u001b[0m\u001b[0;34m)\u001b[0m\u001b[0;34m)\u001b[0m \u001b[0;34m]\u001b[0m \u001b[0;34m*\u001b[0m \u001b[0;36m2\u001b[0m\u001b[0;34m\u001b[0m\u001b[0;34m\u001b[0m\u001b[0m\n\u001b[0m\u001b[1;32m    163\u001b[0m             \u001b[0mkey\u001b[0m \u001b[0;34m+=\u001b[0m \u001b[0mreduce\u001b[0m\u001b[0;34m(\u001b[0m\u001b[0mstrxor\u001b[0m\u001b[0;34m,\u001b[0m \u001b[0;34m(\u001b[0m\u001b[0mlink\u001b[0m\u001b[0;34m(\u001b[0m\u001b[0ms\u001b[0m\u001b[0;34m)\u001b[0m \u001b[0;32mfor\u001b[0m \u001b[0mj\u001b[0m \u001b[0;32min\u001b[0m \u001b[0mrange\u001b[0m\u001b[0;34m(\u001b[0m\u001b[0mcount\u001b[0m\u001b[0;34m)\u001b[0m\u001b[0;34m)\u001b[0m \u001b[0;34m)\u001b[0m\u001b[0;34m\u001b[0m\u001b[0;34m\u001b[0m\u001b[0m\n\u001b[1;32m    164\u001b[0m             \u001b[0mi\u001b[0m \u001b[0;34m+=\u001b[0m \u001b[0;36m1\u001b[0m\u001b[0;34m\u001b[0m\u001b[0;34m\u001b[0m\u001b[0m\n",
      "\u001b[0;32m~/opt/anaconda3/envs/ethereum/lib/python3.7/site-packages/Crypto/Protocol/KDF.py\u001b[0m in \u001b[0;36m<lambda>\u001b[0;34m(p, s)\u001b[0m\n\u001b[1;32m    381\u001b[0m         \u001b[0;32mraise\u001b[0m \u001b[0mValueError\u001b[0m\u001b[0;34m(\u001b[0m\u001b[0;34m\"p or r are too big\"\u001b[0m\u001b[0;34m)\u001b[0m\u001b[0;34m\u001b[0m\u001b[0;34m\u001b[0m\u001b[0m\n\u001b[1;32m    382\u001b[0m \u001b[0;34m\u001b[0m\u001b[0m\n\u001b[0;32m--> 383\u001b[0;31m     \u001b[0mprf_hmac_sha256\u001b[0m \u001b[0;34m=\u001b[0m \u001b[0;32mlambda\u001b[0m \u001b[0mp\u001b[0m\u001b[0;34m,\u001b[0m \u001b[0ms\u001b[0m\u001b[0;34m:\u001b[0m \u001b[0mHMAC\u001b[0m\u001b[0;34m.\u001b[0m\u001b[0mnew\u001b[0m\u001b[0;34m(\u001b[0m\u001b[0mp\u001b[0m\u001b[0;34m,\u001b[0m \u001b[0ms\u001b[0m\u001b[0;34m,\u001b[0m \u001b[0mSHA256\u001b[0m\u001b[0;34m)\u001b[0m\u001b[0;34m.\u001b[0m\u001b[0mdigest\u001b[0m\u001b[0;34m(\u001b[0m\u001b[0;34m)\u001b[0m\u001b[0;34m\u001b[0m\u001b[0;34m\u001b[0m\u001b[0m\n\u001b[0m\u001b[1;32m    384\u001b[0m \u001b[0;34m\u001b[0m\u001b[0m\n\u001b[1;32m    385\u001b[0m     \u001b[0mstage_1\u001b[0m \u001b[0;34m=\u001b[0m \u001b[0mPBKDF2\u001b[0m\u001b[0;34m(\u001b[0m\u001b[0mpassword\u001b[0m\u001b[0;34m,\u001b[0m \u001b[0msalt\u001b[0m\u001b[0;34m,\u001b[0m \u001b[0mp\u001b[0m \u001b[0;34m*\u001b[0m \u001b[0;36m128\u001b[0m \u001b[0;34m*\u001b[0m \u001b[0mr\u001b[0m\u001b[0;34m,\u001b[0m \u001b[0;36m1\u001b[0m\u001b[0;34m,\u001b[0m \u001b[0mprf\u001b[0m\u001b[0;34m=\u001b[0m\u001b[0mprf_hmac_sha256\u001b[0m\u001b[0;34m)\u001b[0m\u001b[0;34m\u001b[0m\u001b[0;34m\u001b[0m\u001b[0m\n",
      "\u001b[0;32m~/opt/anaconda3/envs/ethereum/lib/python3.7/site-packages/Crypto/Hash/HMAC.py\u001b[0m in \u001b[0;36mnew\u001b[0;34m(key, msg, digestmod)\u001b[0m\n\u001b[1;32m    211\u001b[0m     \"\"\"\n\u001b[1;32m    212\u001b[0m \u001b[0;34m\u001b[0m\u001b[0m\n\u001b[0;32m--> 213\u001b[0;31m     \u001b[0;32mreturn\u001b[0m \u001b[0mHMAC\u001b[0m\u001b[0;34m(\u001b[0m\u001b[0mkey\u001b[0m\u001b[0;34m,\u001b[0m \u001b[0mmsg\u001b[0m\u001b[0;34m,\u001b[0m \u001b[0mdigestmod\u001b[0m\u001b[0;34m)\u001b[0m\u001b[0;34m\u001b[0m\u001b[0;34m\u001b[0m\u001b[0m\n\u001b[0m",
      "\u001b[0;32m~/opt/anaconda3/envs/ethereum/lib/python3.7/site-packages/Crypto/Hash/HMAC.py\u001b[0m in \u001b[0;36m__init__\u001b[0;34m(self, key, msg, digestmod)\u001b[0m\n\u001b[1;32m     84\u001b[0m \u001b[0;34m\u001b[0m\u001b[0m\n\u001b[1;32m     85\u001b[0m         \u001b[0;31m# Start step 5 and 6\u001b[0m\u001b[0;34m\u001b[0m\u001b[0;34m\u001b[0m\u001b[0;34m\u001b[0m\u001b[0m\n\u001b[0;32m---> 86\u001b[0;31m         \u001b[0mself\u001b[0m\u001b[0;34m.\u001b[0m\u001b[0m_inner\u001b[0m \u001b[0;34m=\u001b[0m \u001b[0mdigestmod\u001b[0m\u001b[0;34m.\u001b[0m\u001b[0mnew\u001b[0m\u001b[0;34m(\u001b[0m\u001b[0mkey_0_ipad\u001b[0m\u001b[0;34m)\u001b[0m\u001b[0;34m\u001b[0m\u001b[0;34m\u001b[0m\u001b[0m\n\u001b[0m\u001b[1;32m     87\u001b[0m         \u001b[0mself\u001b[0m\u001b[0;34m.\u001b[0m\u001b[0m_inner\u001b[0m\u001b[0;34m.\u001b[0m\u001b[0mupdate\u001b[0m\u001b[0;34m(\u001b[0m\u001b[0mmsg\u001b[0m\u001b[0;34m)\u001b[0m\u001b[0;34m\u001b[0m\u001b[0;34m\u001b[0m\u001b[0m\n\u001b[1;32m     88\u001b[0m \u001b[0;34m\u001b[0m\u001b[0m\n",
      "\u001b[0;32m~/opt/anaconda3/envs/ethereum/lib/python3.7/site-packages/Crypto/Hash/SHA256.py\u001b[0m in \u001b[0;36mnew\u001b[0;34m(data)\u001b[0m\n\u001b[1;32m    156\u001b[0m     \"\"\"\n\u001b[1;32m    157\u001b[0m \u001b[0;34m\u001b[0m\u001b[0m\n\u001b[0;32m--> 158\u001b[0;31m     \u001b[0;32mreturn\u001b[0m \u001b[0mSHA256Hash\u001b[0m\u001b[0;34m(\u001b[0m\u001b[0;34m)\u001b[0m\u001b[0;34m.\u001b[0m\u001b[0mnew\u001b[0m\u001b[0;34m(\u001b[0m\u001b[0mdata\u001b[0m\u001b[0;34m)\u001b[0m\u001b[0;34m\u001b[0m\u001b[0;34m\u001b[0m\u001b[0m\n\u001b[0m\u001b[1;32m    159\u001b[0m \u001b[0;34m\u001b[0m\u001b[0m\n\u001b[1;32m    160\u001b[0m \u001b[0;34m\u001b[0m\u001b[0m\n",
      "\u001b[0;32m~/opt/anaconda3/envs/ethereum/lib/python3.7/site-packages/Crypto/Hash/SHA256.py\u001b[0m in \u001b[0;36m__init__\u001b[0;34m(self, data)\u001b[0m\n\u001b[1;32m     71\u001b[0m     \u001b[0;32mdef\u001b[0m \u001b[0m__init__\u001b[0m\u001b[0;34m(\u001b[0m\u001b[0mself\u001b[0m\u001b[0;34m,\u001b[0m \u001b[0mdata\u001b[0m\u001b[0;34m=\u001b[0m\u001b[0;32mNone\u001b[0m\u001b[0;34m)\u001b[0m\u001b[0;34m:\u001b[0m\u001b[0;34m\u001b[0m\u001b[0;34m\u001b[0m\u001b[0m\n\u001b[1;32m     72\u001b[0m         \u001b[0mstate\u001b[0m \u001b[0;34m=\u001b[0m \u001b[0mVoidPointer\u001b[0m\u001b[0;34m(\u001b[0m\u001b[0;34m)\u001b[0m\u001b[0;34m\u001b[0m\u001b[0;34m\u001b[0m\u001b[0m\n\u001b[0;32m---> 73\u001b[0;31m         \u001b[0mresult\u001b[0m \u001b[0;34m=\u001b[0m \u001b[0m_raw_sha256_lib\u001b[0m\u001b[0;34m.\u001b[0m\u001b[0mSHA256_init\u001b[0m\u001b[0;34m(\u001b[0m\u001b[0mstate\u001b[0m\u001b[0;34m.\u001b[0m\u001b[0maddress_of\u001b[0m\u001b[0;34m(\u001b[0m\u001b[0;34m)\u001b[0m\u001b[0;34m)\u001b[0m\u001b[0;34m\u001b[0m\u001b[0;34m\u001b[0m\u001b[0m\n\u001b[0m\u001b[1;32m     74\u001b[0m         \u001b[0;32mif\u001b[0m \u001b[0mresult\u001b[0m\u001b[0;34m:\u001b[0m\u001b[0;34m\u001b[0m\u001b[0;34m\u001b[0m\u001b[0m\n\u001b[1;32m     75\u001b[0m             raise ValueError(\"Error %d while instantiating SHA256\"\n",
      "\u001b[0;32m~/opt/anaconda3/envs/ethereum/lib/python3.7/site-packages/cffi/api.py\u001b[0m in \u001b[0;36m__getattr__\u001b[0;34m(self, name)\u001b[0m\n\u001b[1;32m    910\u001b[0m     \u001b[0;32mclass\u001b[0m \u001b[0mFFILibrary\u001b[0m\u001b[0;34m(\u001b[0m\u001b[0mobject\u001b[0m\u001b[0;34m)\u001b[0m\u001b[0;34m:\u001b[0m\u001b[0;34m\u001b[0m\u001b[0;34m\u001b[0m\u001b[0m\n\u001b[1;32m    911\u001b[0m         \u001b[0;32mdef\u001b[0m \u001b[0m__getattr__\u001b[0m\u001b[0;34m(\u001b[0m\u001b[0mself\u001b[0m\u001b[0;34m,\u001b[0m \u001b[0mname\u001b[0m\u001b[0;34m)\u001b[0m\u001b[0;34m:\u001b[0m\u001b[0;34m\u001b[0m\u001b[0;34m\u001b[0m\u001b[0m\n\u001b[0;32m--> 912\u001b[0;31m             \u001b[0mmake_accessor\u001b[0m\u001b[0;34m(\u001b[0m\u001b[0mname\u001b[0m\u001b[0;34m)\u001b[0m\u001b[0;34m\u001b[0m\u001b[0;34m\u001b[0m\u001b[0m\n\u001b[0m\u001b[1;32m    913\u001b[0m             \u001b[0;32mreturn\u001b[0m \u001b[0mgetattr\u001b[0m\u001b[0;34m(\u001b[0m\u001b[0mself\u001b[0m\u001b[0;34m,\u001b[0m \u001b[0mname\u001b[0m\u001b[0;34m)\u001b[0m\u001b[0;34m\u001b[0m\u001b[0;34m\u001b[0m\u001b[0m\n\u001b[1;32m    914\u001b[0m         \u001b[0;32mdef\u001b[0m \u001b[0m__setattr__\u001b[0m\u001b[0;34m(\u001b[0m\u001b[0mself\u001b[0m\u001b[0;34m,\u001b[0m \u001b[0mname\u001b[0m\u001b[0;34m,\u001b[0m \u001b[0mvalue\u001b[0m\u001b[0;34m)\u001b[0m\u001b[0;34m:\u001b[0m\u001b[0;34m\u001b[0m\u001b[0;34m\u001b[0m\u001b[0m\n",
      "\u001b[0;32m~/opt/anaconda3/envs/ethereum/lib/python3.7/site-packages/cffi/api.py\u001b[0m in \u001b[0;36mmake_accessor\u001b[0;34m(name)\u001b[0m\n\u001b[1;32m    906\u001b[0m                 \u001b[0;32mif\u001b[0m \u001b[0mname\u001b[0m \u001b[0;32mnot\u001b[0m \u001b[0;32min\u001b[0m \u001b[0maccessors\u001b[0m\u001b[0;34m:\u001b[0m\u001b[0;34m\u001b[0m\u001b[0;34m\u001b[0m\u001b[0m\n\u001b[1;32m    907\u001b[0m                     \u001b[0;32mraise\u001b[0m \u001b[0mAttributeError\u001b[0m\u001b[0;34m(\u001b[0m\u001b[0mname\u001b[0m\u001b[0;34m)\u001b[0m\u001b[0;34m\u001b[0m\u001b[0;34m\u001b[0m\u001b[0m\n\u001b[0;32m--> 908\u001b[0;31m             \u001b[0maccessors\u001b[0m\u001b[0;34m[\u001b[0m\u001b[0mname\u001b[0m\u001b[0;34m]\u001b[0m\u001b[0;34m(\u001b[0m\u001b[0mname\u001b[0m\u001b[0;34m)\u001b[0m\u001b[0;34m\u001b[0m\u001b[0;34m\u001b[0m\u001b[0m\n\u001b[0m\u001b[1;32m    909\u001b[0m     \u001b[0;31m#\u001b[0m\u001b[0;34m\u001b[0m\u001b[0;34m\u001b[0m\u001b[0;34m\u001b[0m\u001b[0m\n\u001b[1;32m    910\u001b[0m     \u001b[0;32mclass\u001b[0m \u001b[0mFFILibrary\u001b[0m\u001b[0;34m(\u001b[0m\u001b[0mobject\u001b[0m\u001b[0;34m)\u001b[0m\u001b[0;34m:\u001b[0m\u001b[0;34m\u001b[0m\u001b[0;34m\u001b[0m\u001b[0m\n",
      "\u001b[0;32m~/opt/anaconda3/envs/ethereum/lib/python3.7/site-packages/cffi/api.py\u001b[0m in \u001b[0;36maccessor_function\u001b[0;34m(name)\u001b[0m\n\u001b[1;32m    836\u001b[0m         \u001b[0mtp\u001b[0m\u001b[0;34m,\u001b[0m \u001b[0m_\u001b[0m \u001b[0;34m=\u001b[0m \u001b[0mffi\u001b[0m\u001b[0;34m.\u001b[0m\u001b[0m_parser\u001b[0m\u001b[0;34m.\u001b[0m\u001b[0m_declarations\u001b[0m\u001b[0;34m[\u001b[0m\u001b[0mkey\u001b[0m\u001b[0;34m]\u001b[0m\u001b[0;34m\u001b[0m\u001b[0;34m\u001b[0m\u001b[0m\n\u001b[1;32m    837\u001b[0m         \u001b[0mBType\u001b[0m \u001b[0;34m=\u001b[0m \u001b[0mffi\u001b[0m\u001b[0;34m.\u001b[0m\u001b[0m_get_cached_btype\u001b[0m\u001b[0;34m(\u001b[0m\u001b[0mtp\u001b[0m\u001b[0;34m)\u001b[0m\u001b[0;34m\u001b[0m\u001b[0;34m\u001b[0m\u001b[0m\n\u001b[0;32m--> 838\u001b[0;31m         \u001b[0mvalue\u001b[0m \u001b[0;34m=\u001b[0m \u001b[0mbackendlib\u001b[0m\u001b[0;34m.\u001b[0m\u001b[0mload_function\u001b[0m\u001b[0;34m(\u001b[0m\u001b[0mBType\u001b[0m\u001b[0;34m,\u001b[0m \u001b[0mname\u001b[0m\u001b[0;34m)\u001b[0m\u001b[0;34m\u001b[0m\u001b[0;34m\u001b[0m\u001b[0m\n\u001b[0m\u001b[1;32m    839\u001b[0m         \u001b[0mlibrary\u001b[0m\u001b[0;34m.\u001b[0m\u001b[0m__dict__\u001b[0m\u001b[0;34m[\u001b[0m\u001b[0mname\u001b[0m\u001b[0;34m]\u001b[0m \u001b[0;34m=\u001b[0m \u001b[0mvalue\u001b[0m\u001b[0;34m\u001b[0m\u001b[0;34m\u001b[0m\u001b[0m\n\u001b[1;32m    840\u001b[0m     \u001b[0;31m#\u001b[0m\u001b[0;34m\u001b[0m\u001b[0;34m\u001b[0m\u001b[0;34m\u001b[0m\u001b[0m\n",
      "\u001b[0;31mAttributeError\u001b[0m: function/symbol 'SHA256_init' not found in library '/Users/victormieres/opt/anaconda3/envs/ethereum/lib/python3.7/site-packages/Crypto/Util/../Hash/_SHA256.cpython-37m-darwin.so': dlsym(0x7fab32ebb5e0, SHA256_init): symbol not found"
     ]
    }
   ],
   "source": [
    "private_key = \"0xb944479aa714197a63d8fe0d4378d9253632daa3e7463e76fad4ac6dd0dea357\"\n",
    "account_one = Account.from_key(private_key)\n",
    "with open(\n",
    "    Path(\"node1/keystore/UTC--2021-02-18T23-27-10.930893000Z--b7ac4cfc8530b14fcd84833eeecdb1e20bae0738\")\n",
    ") as keyfile:\n",
    "    encrypted_key = keyfile.read()\n",
    "    private_key = w3.eth.account.decrypt(\n",
    "        encrypted_key, getpass(\"What is the keystore password?: \")    \n",
    "    )\n",
    "    account_two = Account.from_key(private_key)"
   ]
  },
  {
   "cell_type": "code",
   "execution_count": null,
   "metadata": {},
   "outputs": [],
   "source": []
  }
 ],
 "metadata": {
  "kernelspec": {
   "display_name": "ethereum",
   "language": "python",
   "name": "ethereum"
  },
  "language_info": {
   "codemirror_mode": {
    "name": "ipython",
    "version": 3
   },
   "file_extension": ".py",
   "mimetype": "text/x-python",
   "name": "python",
   "nbconvert_exporter": "python",
   "pygments_lexer": "ipython3",
   "version": "3.7.9"
  }
 },
 "nbformat": 4,
 "nbformat_minor": 4
}
